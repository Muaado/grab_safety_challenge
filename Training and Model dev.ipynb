{
 "cells": [
  {
   "cell_type": "code",
   "execution_count": 1,
   "metadata": {},
   "outputs": [
    {
     "name": "stdout",
     "output_type": "stream",
     "text": [
      "/home/biinths/features/part-00008-e6120af0-10c2-4248-97c4-81baf4304e5c-c000.csv\n",
      "/home/biinths/features/part-00009-e6120af0-10c2-4248-97c4-81baf4304e5c-c000.csv\n",
      "/home/biinths/features/part-00004-e6120af0-10c2-4248-97c4-81baf4304e5c-c000.csv\n",
      "/home/biinths/features/part-00006-e6120af0-10c2-4248-97c4-81baf4304e5c-c000.csv\n",
      "/home/biinths/features/part-00005-e6120af0-10c2-4248-97c4-81baf4304e5c-c000.csv\n",
      "/home/biinths/features/part-00007-e6120af0-10c2-4248-97c4-81baf4304e5c-c000.csv\n",
      "/home/biinths/features/part-00002-e6120af0-10c2-4248-97c4-81baf4304e5c-c000.csv\n",
      "/home/biinths/features/part-00001-e6120af0-10c2-4248-97c4-81baf4304e5c-c000.csv\n",
      "/home/biinths/features/part-00000-e6120af0-10c2-4248-97c4-81baf4304e5c-c000.csv\n",
      "/home/biinths/features/part-00003-e6120af0-10c2-4248-97c4-81baf4304e5c-c000.csv\n"
     ]
    }
   ],
   "source": [
    "import os\n",
    "from os import walk\n",
    "from sklearn.externals import joblib\n",
    "import pandas as pd\n",
    "import numpy as np\n",
    "import time\n",
    "from sklearn.ensemble import RandomForestClassifier\n",
    "from sklearn.model_selection import train_test_split\n",
    "from sklearn.metrics import accuracy_score\n",
    "from sklearn.metrics import roc_curve\n",
    "from sklearn.metrics import roc_auc_score\n",
    "from matplotlib import pyplot\n",
    "from sklearn.model_selection import cross_val_score\n",
    "from sklearn.model_selection import GridSearchCV\n",
    "\n",
    "#------------------- START FUNCTIONS -----------------------------------------#\n",
    "def read_data(file):  \n",
    "    #import the datasets and labels\n",
    "    d = pd.read_csv(file, delimiter=\",\", engine='python',header=None, dtype={ 'bookingID': np.int64, 'Accuracy': np.int32, 'Bearing': np.int32, 'acceleration_x': np.float64, 'acceleration_y': np.float64, 'acceleration_z': np.float64, 'gyro_x': np.float64, 'gyro_y': np.float64, 'gyro_z': np.float64, 'second': np.int32, 'Speed': np.int32  })\n",
    "    print(file)\n",
    "    return d\n",
    "\n",
    "#------------------- END FUNCTIONS -----------------------------------------#\n",
    "\n",
    "\n",
    "#read in the data\n",
    "#fetch all files inside the features dir\n",
    "files = os.listdir(os.getcwd()+'/features')\n",
    "\n",
    "#create and append individual csv files to one single data frame\n",
    "dataset = pd.DataFrame()\n",
    "for file in files:\n",
    "    file = os.getcwd()+'/features/'+file\n",
    "    if file.endswith('.csv'):\n",
    "        dataset = dataset.append(read_data(file))"
   ]
  },
  {
   "cell_type": "code",
   "execution_count": 2,
   "metadata": {},
   "outputs": [],
   "source": [
    "labels = pd.read_csv('label.csv', delimiter=\",\", header='infer')"
   ]
  },
  {
   "cell_type": "code",
   "execution_count": 3,
   "metadata": {},
   "outputs": [],
   "source": [
    "labels = labels[labels.bookingID != 0]"
   ]
  },
  {
   "cell_type": "code",
   "execution_count": 4,
   "metadata": {},
   "outputs": [],
   "source": [
    "#rename columsn in the dataframe\n",
    "pd.options.display.float_format = '{:.2f}'.format\n",
    "\n",
    "dataset.columns = ['bookingID', 'Accuracy', 'Bearing', 'acceleration_x', 'acceleration_y', 'acceleration_z', 'gyro_x', 'gyro_y', 'gyro_z', 'second', 'Speed']\n",
    "columns = dataset.columns\n",
    "\n",
    "labels = pd.read_csv('label.csv', delimiter=\",\", header='infer')\n",
    "dataset[columns] = dataset[columns].apply(pd.to_numeric, errors='coerce')\n",
    "\n",
    "#drop rows with BookingId values as 0\n",
    "dataset = dataset[dataset.bookingID != 0]\n",
    "labels = labels[labels.bookingID != 0]\n",
    "\n",
    "#merge the two datasets with the right labels - Use keys from right frame only\n",
    "merged = pd.merge(dataset, labels, left_on=['bookingID'], right_on=['bookingID'], how='left')"
   ]
  },
  {
   "cell_type": "code",
   "execution_count": 5,
   "metadata": {},
   "outputs": [],
   "source": [
    "labels.drop_duplicates(subset =\"bookingID\", keep = False, inplace = True) \n",
    "orig_data = labels"
   ]
  },
  {
   "cell_type": "code",
   "execution_count": null,
   "metadata": {},
   "outputs": [],
   "source": []
  },
  {
   "cell_type": "code",
   "execution_count": 6,
   "metadata": {},
   "outputs": [],
   "source": [
    "def remove_outlier(df_in, col_name):\n",
    "    q1 = df_in[col_name].quantile(0.25)\n",
    "    q3 = df_in[col_name].quantile(0.75)\n",
    "    iqr = q3-q1 #Interquartile range\n",
    "    fence_low  = q1-1.5*iqr\n",
    "    fence_high = q3+1.5*iqr\n",
    "    df_out = df_in.loc[(df_in[col_name] > fence_low) & (df_in[col_name] < fence_high)]\n",
    "    return df_out\n",
    "\n",
    "columns = dataset.columns\n",
    "dataset[columns] = dataset[columns].apply(pd.to_numeric, errors='coerce')\n",
    "\n",
    "#drop rows with BookingId values as 0\n",
    "dataset = dataset[dataset.bookingID != 0]\n",
    "labels = labels[labels.bookingID != 0]\n",
    "\n",
    "\n",
    "merged = remove_outlier(merged, 'second')\n",
    "merged = merged.sort_values(['bookingID','second'],ascending=True)"
   ]
  },
  {
   "cell_type": "code",
   "execution_count": 7,
   "metadata": {},
   "outputs": [],
   "source": [
    "#Mean: the average value of the magnitude samples over a time window\n",
    "mean_acc_gyro = merged.groupby('bookingID', as_index=False)\\\n",
    "        ['acceleration_x','acceleration_y','acceleration_z','gyro_x','gyro_y', 'gyro_z'].rolling(4).mean().reset_index()\n",
    "\n"
   ]
  },
  {
   "cell_type": "code",
   "execution_count": 8,
   "metadata": {},
   "outputs": [],
   "source": [
    "mean_acc_gyro.set_index('level_1', drop=True, inplace=True)"
   ]
  },
  {
   "cell_type": "code",
   "execution_count": 9,
   "metadata": {},
   "outputs": [
    {
     "data": {
      "text/plain": [
       "True"
      ]
     },
     "execution_count": 9,
     "metadata": {},
     "output_type": "execute_result"
    }
   ],
   "source": [
    "merged.index[0] == mean_acc_gyro.index[0]"
   ]
  },
  {
   "cell_type": "code",
   "execution_count": 10,
   "metadata": {},
   "outputs": [],
   "source": [
    "#STORE AND EXTRACT MEAN OF EVERY WINDOW -\n",
    "merged['MEAN_ACC_X'] = mean_acc_gyro.acceleration_x[3::4]\n",
    "merged['MEAN_ACC_Y'] = mean_acc_gyro.acceleration_y[3::4]\n",
    "merged['MEAN_ACC_Z'] = mean_acc_gyro.acceleration_z[3::4]\n",
    "merged['MEAN_GYRO_X'] = mean_acc_gyro.gyro_x[3::4]\n",
    "merged['MEAN_GYRO_Y'] = mean_acc_gyro.gyro_y[3::4]\n",
    "merged['MEAN_GYRO_Z'] = mean_acc_gyro.gyro_z[3::4]"
   ]
  },
  {
   "cell_type": "code",
   "execution_count": 11,
   "metadata": {},
   "outputs": [],
   "source": [
    "#Calculate Z-Crossing for accelerometer and gyroscope readings (how many times each point crosses the mean)\n",
    "merged['CROSSOVER_ACC_X'] = (merged['acceleration_x'] > merged['MEAN_ACC_X'].bfill()).astype(int)\n",
    "merged['CROSSOVER_ACC_Y'] = (merged['acceleration_y'] > merged['MEAN_ACC_Y'].bfill()).astype(int)\n",
    "merged['CROSSOVER_ACC_Z'] = (merged['acceleration_z'] > merged['MEAN_ACC_Z'].bfill()).astype(int)\n",
    "\n",
    "#Calculate Z-Crossing for accelerometer and gyroscope readings (how many times each point crosses the mean)\n",
    "merged['CROSSOVER_GYRO_X'] = (merged['gyro_x'] > merged['MEAN_GYRO_X'].bfill()).astype(int)\n",
    "merged['CROSSOVER_GYRO_Y'] = (merged['gyro_y'] > merged['MEAN_GYRO_Y'].bfill()).astype(int)\n",
    "merged['CROSSOVER_GYRO_Z'] = (merged['gyro_z'] > merged['MEAN_GYRO_Z'].bfill()).astype(int)"
   ]
  },
  {
   "cell_type": "code",
   "execution_count": 12,
   "metadata": {},
   "outputs": [],
   "source": [
    "#Variance: the average of the squared differences of the sample values from the mean value over a time window.\n",
    "variance = merged.groupby('bookingID', as_index=False)\\\n",
    "        ['acceleration_x','acceleration_y','acceleration_z','gyro_x','gyro_y', 'gyro_z'].rolling(4).var().reset_index()\n",
    "\n"
   ]
  },
  {
   "cell_type": "code",
   "execution_count": 13,
   "metadata": {},
   "outputs": [],
   "source": [
    "variance.set_index('level_1', drop=True, inplace=True)"
   ]
  },
  {
   "cell_type": "code",
   "execution_count": 14,
   "metadata": {},
   "outputs": [
    {
     "data": {
      "text/plain": [
       "True"
      ]
     },
     "execution_count": 14,
     "metadata": {},
     "output_type": "execute_result"
    }
   ],
   "source": [
    "merged.index[0] == variance.index[0]"
   ]
  },
  {
   "cell_type": "code",
   "execution_count": 15,
   "metadata": {},
   "outputs": [],
   "source": [
    "#STORE AND EXTRACT VA OF EVERY WINDOW -\n",
    "merged['VAR_ACC_X'] = variance.acceleration_x[3::4]\n",
    "merged['VAR_ACC_Y'] = variance.acceleration_y[3::4]\n",
    "merged['VAR_ACC_Z'] = variance.acceleration_z[3::4]\n",
    "merged['VAR_GYRO_X'] = variance.gyro_x[3::4]\n",
    "merged['VAR_GYRO_Y'] = variance.gyro_y[3::4]\n",
    "merged['VAR_GYRO_Z'] = variance.gyro_z[3::4]"
   ]
  },
  {
   "cell_type": "code",
   "execution_count": 16,
   "metadata": {},
   "outputs": [
    {
     "data": {
      "text/html": [
       "<div>\n",
       "<style scoped>\n",
       "    .dataframe tbody tr th:only-of-type {\n",
       "        vertical-align: middle;\n",
       "    }\n",
       "\n",
       "    .dataframe tbody tr th {\n",
       "        vertical-align: top;\n",
       "    }\n",
       "\n",
       "    .dataframe thead th {\n",
       "        text-align: right;\n",
       "    }\n",
       "</style>\n",
       "<table border=\"1\" class=\"dataframe\">\n",
       "  <thead>\n",
       "    <tr style=\"text-align: right;\">\n",
       "      <th></th>\n",
       "      <th>count</th>\n",
       "      <th>mean</th>\n",
       "      <th>std</th>\n",
       "      <th>min</th>\n",
       "      <th>25%</th>\n",
       "      <th>50%</th>\n",
       "      <th>75%</th>\n",
       "      <th>max</th>\n",
       "    </tr>\n",
       "    <tr>\n",
       "      <th>label</th>\n",
       "      <th></th>\n",
       "      <th></th>\n",
       "      <th></th>\n",
       "      <th></th>\n",
       "      <th></th>\n",
       "      <th></th>\n",
       "      <th></th>\n",
       "      <th></th>\n",
       "    </tr>\n",
       "  </thead>\n",
       "  <tbody>\n",
       "    <tr>\n",
       "      <th>0.00</th>\n",
       "      <td>2782356.00</td>\n",
       "      <td>0.48</td>\n",
       "      <td>1.99</td>\n",
       "      <td>0.00</td>\n",
       "      <td>0.03</td>\n",
       "      <td>0.16</td>\n",
       "      <td>0.48</td>\n",
       "      <td>912.06</td>\n",
       "    </tr>\n",
       "    <tr>\n",
       "      <th>1.00</th>\n",
       "      <td>1179070.00</td>\n",
       "      <td>0.98</td>\n",
       "      <td>7.91</td>\n",
       "      <td>0.00</td>\n",
       "      <td>0.03</td>\n",
       "      <td>0.17</td>\n",
       "      <td>0.53</td>\n",
       "      <td>1740.19</td>\n",
       "    </tr>\n",
       "  </tbody>\n",
       "</table>\n",
       "</div>"
      ],
      "text/plain": [
       "           count  mean  std  min  25%  50%  75%     max\n",
       "label                                                  \n",
       "0.00  2782356.00  0.48 1.99 0.00 0.03 0.16 0.48  912.06\n",
       "1.00  1179070.00  0.98 7.91 0.00 0.03 0.17 0.53 1740.19"
      ]
     },
     "execution_count": 16,
     "metadata": {},
     "output_type": "execute_result"
    }
   ],
   "source": [
    "merged.groupby('label').VAR_ACC_Y.describe()"
   ]
  },
  {
   "cell_type": "code",
   "execution_count": 17,
   "metadata": {},
   "outputs": [],
   "source": [
    "merged['PITCH'] = np.arctan2(-merged.acceleration_x, np.sqrt(merged.acceleration_y * merged.acceleration_y + merged.acceleration_z * merged.acceleration_z)) * 57.3\n",
    "merged['ROLL'] = np.arctan2(merged.acceleration_y, merged.acceleration_z) * 57.3\n"
   ]
  },
  {
   "cell_type": "code",
   "execution_count": 18,
   "metadata": {},
   "outputs": [],
   "source": [
    "#GET MEAN OF ROLL AND PITCH FOR WINDOW\n",
    "mean_pitch_roll = merged.groupby('bookingID', as_index=False)\\\n",
    "        ['ROLL','PITCH'].rolling(4).mean().reset_index()\n",
    "\n",
    "\n"
   ]
  },
  {
   "cell_type": "code",
   "execution_count": 19,
   "metadata": {},
   "outputs": [],
   "source": [
    "mean_pitch_roll.set_index('level_1', drop=True, inplace=True)"
   ]
  },
  {
   "cell_type": "code",
   "execution_count": 20,
   "metadata": {},
   "outputs": [
    {
     "data": {
      "text/plain": [
       "True"
      ]
     },
     "execution_count": 20,
     "metadata": {},
     "output_type": "execute_result"
    }
   ],
   "source": [
    "merged.index[0] == mean_pitch_roll.index[0]"
   ]
  },
  {
   "cell_type": "code",
   "execution_count": 21,
   "metadata": {},
   "outputs": [],
   "source": [
    "# MEAN AND ROLL EXTRACT FOR EACH WINDOW\n",
    "merged['MEAN_ROLL'] = mean_pitch_roll.ROLL[3::4]\n",
    "merged['MEAN_PITCH'] = mean_pitch_roll.PITCH[3::4]"
   ]
  },
  {
   "cell_type": "code",
   "execution_count": null,
   "metadata": {},
   "outputs": [],
   "source": []
  },
  {
   "cell_type": "code",
   "execution_count": 22,
   "metadata": {},
   "outputs": [],
   "source": [
    "#CHECK IF THE ACCELERATION POINTs AND GYROSCOPE CROSSES THE MEAN OF WINDOW : IF SO ASSIGN 1\n",
    "merged['CROSSOVER_PITCH'] = (merged['ROLL'] > merged['MEAN_ROLL'].bfill()).astype(int)\n",
    "merged['CROSSOVER_ROLL'] = (merged['PITCH'] > merged['MEAN_PITCH'].bfill()).astype(int)"
   ]
  },
  {
   "cell_type": "code",
   "execution_count": null,
   "metadata": {},
   "outputs": [],
   "source": []
  },
  {
   "cell_type": "code",
   "execution_count": null,
   "metadata": {},
   "outputs": [],
   "source": []
  },
  {
   "cell_type": "code",
   "execution_count": 23,
   "metadata": {},
   "outputs": [],
   "source": [
    "# ECULIDEAN MAGNITUDE\n",
    "merged['EUCLIDEAN_ACC'] = np.sqrt(np.square(merged['acceleration_x']) + \\\n",
    "                                  np.square(merged['acceleration_y']) + \\\n",
    "                                  np.square(merged['acceleration_z']))"
   ]
  },
  {
   "cell_type": "code",
   "execution_count": 24,
   "metadata": {},
   "outputs": [],
   "source": [
    "#Variance: the average of the squared differences of the sample values from the mean value over a time window.\n",
    "mean_ed_acc = merged.groupby('bookingID', as_index=False).EUCLIDEAN_ACC.rolling(4).mean().reset_index()\n",
    "\n",
    "mean_ed_acc.set_index('level_1', drop=True, inplace=True)"
   ]
  },
  {
   "cell_type": "code",
   "execution_count": 27,
   "metadata": {},
   "outputs": [],
   "source": [
    "merged['MEAN_ED_ACC'] = mean_ed_acc.EUCLIDEAN_ACC[3::4]\n",
    "merged['CROSSOVER_ED_ACC'] = (merged['EUCLIDEAN_ACC'] > merged['MEAN_ED_ACC'].bfill()).astype(int)\n"
   ]
  },
  {
   "cell_type": "code",
   "execution_count": null,
   "metadata": {},
   "outputs": [],
   "source": []
  },
  {
   "cell_type": "code",
   "execution_count": null,
   "metadata": {},
   "outputs": [],
   "source": []
  },
  {
   "cell_type": "code",
   "execution_count": null,
   "metadata": {},
   "outputs": [],
   "source": []
  },
  {
   "cell_type": "code",
   "execution_count": null,
   "metadata": {},
   "outputs": [],
   "source": []
  },
  {
   "cell_type": "code",
   "execution_count": null,
   "metadata": {},
   "outputs": [],
   "source": []
  },
  {
   "cell_type": "code",
   "execution_count": 28,
   "metadata": {},
   "outputs": [],
   "source": [
    "#calculate bearing difference\n",
    "bdiff = merged.groupby('bookingID', as_index=True)['Bearing'].diff()\n",
    "merged['bearing_difference'] = bdiff"
   ]
  },
  {
   "cell_type": "code",
   "execution_count": 29,
   "metadata": {},
   "outputs": [],
   "source": [
    "# intervals between data points\n",
    "intervals =  merged.groupby('bookingID', as_index=True)['second'].diff()\n",
    "merged['intervals'] = intervals"
   ]
  },
  {
   "cell_type": "code",
   "execution_count": 30,
   "metadata": {},
   "outputs": [],
   "source": [
    "# speed diffrence between points\n",
    "speed_diff =  merged.groupby('bookingID', as_index=True)['Speed'].diff()\n",
    "merged['speed_diff'] = speed_diff"
   ]
  },
  {
   "cell_type": "code",
   "execution_count": 31,
   "metadata": {},
   "outputs": [],
   "source": [
    "# calculate acceleration and bearing rates\n",
    "merged['car_acceleration'] = abs(merged.speed_diff / merged.intervals)\n",
    "merged['bearing_rate'] = abs(merged.bearing_difference / merged.intervals)"
   ]
  },
  {
   "cell_type": "code",
   "execution_count": 32,
   "metadata": {},
   "outputs": [],
   "source": [
    "# distance covered at every point\n",
    "merged['distance_covered'] = abs(merged.speed_diff * merged.intervals)"
   ]
  },
  {
   "cell_type": "code",
   "execution_count": 53,
   "metadata": {},
   "outputs": [],
   "source": [
    "mergeda = merged\n",
    "mergedb = merged\n",
    "mergedc = merged"
   ]
  },
  {
   "cell_type": "code",
   "execution_count": 52,
   "metadata": {},
   "outputs": [],
   "source": [
    "merged = mergeda"
   ]
  },
  {
   "cell_type": "code",
   "execution_count": 35,
   "metadata": {},
   "outputs": [],
   "source": [
    "def percentile(n):\n",
    "    def percentile_(x):\n",
    "        return np.percentile(x, n)\n",
    "    percentile_.__name__ = 'percentile_%s' % n\n",
    "    return percentile_\n"
   ]
  },
  {
   "cell_type": "code",
   "execution_count": 54,
   "metadata": {},
   "outputs": [],
   "source": [
    "aggregates = merged.groupby('bookingID').agg({'distance_covered':['max'],\n",
    "                            'bearing_rate':['max', 'var' ,'sum'],\n",
    "                            'car_acceleration':['max'],\n",
    "                            'bearing_rate':['max'],\n",
    "                            'intervals':['sum'],\n",
    "                            'CROSSOVER_ROLL':['sum'],\n",
    "                            'CROSSOVER_PITCH':['sum'],\n",
    "                            'MEAN_PITCH':['max','std'],\n",
    "                            'MEAN_ROLL':['max','std'],\n",
    "                            'VAR_GYRO_Z':['sum','mean','std'],\n",
    "                            'VAR_GYRO_Y':['sum','mean','std'],\n",
    "                            'VAR_GYRO_X':['sum','mean','std'],\n",
    "                            'CROSSOVER_ED_ACC':['sum','mean'],\n",
    "                            'EUCLIDEAN_ACC':['sum', 'mean','var'],\n",
    "                            'CROSSOVER_GYRO_Z':['sum'],\n",
    "                            'CROSSOVER_GYRO_Y':['sum'],\n",
    "                            'CROSSOVER_GYRO_X':['sum'],\n",
    "                            'CROSSOVER_ACC_Z':['sum'],\n",
    "                            'CROSSOVER_ACC_Y':['sum'],\n",
    "                            'CROSSOVER_ACC_X':['sum']})"
   ]
  },
  {
   "cell_type": "code",
   "execution_count": 55,
   "metadata": {},
   "outputs": [],
   "source": [
    "aggregates.columns = aggregates.columns.map('|'.join).str.strip('|')"
   ]
  },
  {
   "cell_type": "code",
   "execution_count": 56,
   "metadata": {},
   "outputs": [],
   "source": [
    "#merge aggregate vectors to the orginal label data\n",
    "merged = pd.merge(orig_data, aggregates, left_on=['bookingID'], right_on=['bookingID'], how='left')\n",
    "\n",
    "\n",
    "#rearrange columsn so that label goes to the end of frame\n",
    "labels = merged['label']\n",
    "merged = merged.drop(columns='label')\n",
    "merged['label'] = labels\n",
    "\n",
    "merged =  merged.dropna(how='any')   \n"
   ]
  },
  {
   "cell_type": "code",
   "execution_count": 57,
   "metadata": {},
   "outputs": [],
   "source": [
    "merged = merged.drop(columns = ['bookingID'])"
   ]
  },
  {
   "cell_type": "code",
   "execution_count": 58,
   "metadata": {},
   "outputs": [],
   "source": [
    "d = len(merged.columns) -1"
   ]
  },
  {
   "cell_type": "code",
   "execution_count": 59,
   "metadata": {},
   "outputs": [],
   "source": [
    "\"\"\"BUILD THE MODEL\"\"\"\n",
    "#split the dataset\n",
    "X = merged.iloc[:,:d]\n",
    "y = merged.iloc[:,d]\n",
    "\n",
    "X_train, X_test, y_train, y_test = train_test_split( X, y, test_size=0.33, random_state=232323, stratify =y)"
   ]
  },
  {
   "cell_type": "code",
   "execution_count": 70,
   "metadata": {},
   "outputs": [
    {
     "name": "stdout",
     "output_type": "stream",
     "text": [
      "Fitting 10 folds for each of 54 candidates, totalling 540 fits\n"
     ]
    },
    {
     "name": "stderr",
     "output_type": "stream",
     "text": [
      "[Parallel(n_jobs=16)]: Using backend LokyBackend with 16 concurrent workers.\n",
      "[Parallel(n_jobs=16)]: Done  96 tasks      | elapsed:   33.2s\n",
      "[Parallel(n_jobs=16)]: Done 256 tasks      | elapsed:  1.6min\n",
      "[Parallel(n_jobs=16)]: Done 480 tasks      | elapsed:  4.3min\n",
      "[Parallel(n_jobs=16)]: Done 540 out of 540 | elapsed:  5.8min finished\n"
     ]
    },
    {
     "data": {
      "text/plain": [
       "GridSearchCV(cv=10, error_score='raise-deprecating',\n",
       "       estimator=RandomForestClassifier(bootstrap=True, class_weight=None, criterion='gini',\n",
       "            max_depth=None, max_features='auto', max_leaf_nodes=None,\n",
       "            min_impurity_decrease=0.0, min_impurity_split=None,\n",
       "            min_samples_leaf=1, min_samples_split=2,\n",
       "            min_weight_fraction_leaf=0.0, n_estimators='warn', n_jobs=None,\n",
       "            oob_score=False, random_state=3456, verbose=0,\n",
       "            warm_start=False),\n",
       "       fit_params=None, iid='warn', n_jobs=16,\n",
       "       param_grid={'n_estimators': [160], 'max_features': [0.1, 0.2, 0.3, 0.4, 0.5, 0.7], 'max_depth': [5, 10, 25], 'min_samples_split': [0.01, 0.02, 0.8]},\n",
       "       pre_dispatch='2*n_jobs', refit=True, return_train_score='warn',\n",
       "       scoring='roc_auc', verbose=3)"
      ]
     },
     "execution_count": 70,
     "metadata": {},
     "output_type": "execute_result"
    }
   ],
   "source": [
    "from sklearn.model_selection import GridSearchCV\n",
    "\n",
    "model = RandomForestClassifier(random_state = 3456)\n",
    "\n",
    "grid_search_params = {'n_estimators': [160],\n",
    "                    'max_features': [0.1,0.2,0.3,0.4,0.5,0.7],\n",
    "                    'max_depth': [5,10,25],\n",
    "                    'min_samples_split': [0.01,0.02,0.8]}\n",
    "\n",
    "\n",
    "grid_search = GridSearchCV(estimator = model, param_grid = grid_search_params, cv = 10, n_jobs = 16, verbose = 3, scoring='roc_auc')\n",
    "\n",
    "grid_search.fit(X_train,y_train)\n",
    "\n"
   ]
  },
  {
   "cell_type": "code",
   "execution_count": 71,
   "metadata": {},
   "outputs": [],
   "source": [
    "\n",
    "model = grid_search.best_estimator_"
   ]
  },
  {
   "cell_type": "code",
   "execution_count": 72,
   "metadata": {},
   "outputs": [
    {
     "data": {
      "text/plain": [
       "{'max_depth': 10,\n",
       " 'max_features': 0.5,\n",
       " 'min_samples_split': 0.01,\n",
       " 'n_estimators': 160}"
      ]
     },
     "execution_count": 72,
     "metadata": {},
     "output_type": "execute_result"
    }
   ],
   "source": [
    "grid_search.best_params_"
   ]
  },
  {
   "cell_type": "code",
   "execution_count": 63,
   "metadata": {},
   "outputs": [
    {
     "data": {
      "text/plain": [
       "'# fit model no training data\\nmodel = RandomForestClassifier(n_estimators=160 , max_depth = 10, min_samples_split=0.01, max_features= 0.8, n_jobs = 17, verbose =0)\\nmodel.fit(X_train, y_train)\\n'"
      ]
     },
     "execution_count": 63,
     "metadata": {},
     "output_type": "execute_result"
    }
   ],
   "source": [
    "\"\"\"# fit model no training data\n",
    "model = RandomForestClassifier(n_estimators=160 , max_depth = 10, min_samples_split=0.01, max_features= 0.8, n_jobs = 17, verbose =0)\n",
    "model.fit(X_train, y_train)\n",
    "\"\"\""
   ]
  },
  {
   "cell_type": "code",
   "execution_count": 77,
   "metadata": {},
   "outputs": [
    {
     "data": {
      "text/plain": [
       "0.7160693258324755"
      ]
     },
     "execution_count": 77,
     "metadata": {},
     "output_type": "execute_result"
    }
   ],
   "source": [
    "cv_score = cross_val_score(model, X_test, y_test, cv=5, scoring='roc_auc')\n",
    "cv_score\n",
    "sum(cv_score) / len(cv_score)"
   ]
  },
  {
   "cell_type": "code",
   "execution_count": 76,
   "metadata": {},
   "outputs": [
    {
     "data": {
      "text/plain": [
       "array([0.73419039, 0.73393327, 0.71451485, 0.7153719 , 0.68250801,\n",
       "       0.69288002, 0.72521557, 0.71140675, 0.75383099, 0.7330157 ])"
      ]
     },
     "execution_count": 76,
     "metadata": {},
     "output_type": "execute_result"
    }
   ],
   "source": [
    "cv_score"
   ]
  },
  {
   "cell_type": "code",
   "execution_count": 78,
   "metadata": {},
   "outputs": [
    {
     "name": "stdout",
     "output_type": "stream",
     "text": [
      "[[4810  139]\n",
      " [1335  309]]\n"
     ]
    }
   ],
   "source": [
    "from sklearn.metrics import confusion_matrix\n",
    "\n",
    "pred = model.predict(X_test)\n",
    "cm = confusion_matrix(y_test, pred)\n",
    "print(cm)"
   ]
  },
  {
   "cell_type": "code",
   "execution_count": 79,
   "metadata": {},
   "outputs": [
    {
     "name": "stdout",
     "output_type": "stream",
     "text": [
      "                       importance\n",
      "intervals|sum                0.32\n",
      "EUCLIDEAN_ACC|var            0.12\n",
      "distance_covered|max         0.05\n",
      "MEAN_PITCH|std               0.04\n",
      "MEAN_ROLL|std                0.04\n",
      "EUCLIDEAN_ACC|sum            0.03\n",
      "VAR_GYRO_X|sum               0.03\n",
      "VAR_GYRO_X|mean              0.02\n",
      "bearing_rate|max             0.02\n",
      "CROSSOVER_ACC_Z|sum          0.02\n",
      "MEAN_PITCH|max               0.02\n",
      "CROSSOVER_ACC_Y|sum          0.02\n",
      "MEAN_ROLL|max                0.02\n",
      "car_acceleration|max         0.02\n",
      "CROSSOVER_ROLL|sum           0.02\n",
      "CROSSOVER_GYRO_Y|sum         0.02\n",
      "VAR_GYRO_Z|sum               0.02\n",
      "EUCLIDEAN_ACC|mean           0.02\n",
      "CROSSOVER_ACC_X|sum          0.02\n",
      "VAR_GYRO_Y|std               0.02\n",
      "VAR_GYRO_Z|mean              0.02\n",
      "CROSSOVER_GYRO_Z|sum         0.01\n",
      "CROSSOVER_GYRO_X|sum         0.01\n",
      "CROSSOVER_PITCH|sum          0.01\n",
      "VAR_GYRO_X|std               0.01\n",
      "CROSSOVER_ED_ACC|mean        0.01\n",
      "VAR_GYRO_Z|std               0.01\n",
      "CROSSOVER_ED_ACC|sum         0.01\n",
      "VAR_GYRO_Y|mean              0.01\n",
      "VAR_GYRO_Y|sum               0.01\n",
      "AUC: 0.730\n"
     ]
    }
   ],
   "source": [
    "feature_importances = pd.DataFrame(model.feature_importances_,index = X.columns,columns=['importance']).sort_values('importance',                                                                 ascending=False)\n",
    "print(feature_importances)\n",
    "# predict probabilities\n",
    "probs = model.predict_proba(X_test)\n",
    "# keep probabilities for the positive outcome only\n",
    "probs = probs[:, 1]\n",
    "# calculate AUC\n",
    "auc = roc_auc_score(y_test, probs)\n",
    "print('AUC: %.3f' % auc)\n",
    "# calculate roc curve\n",
    "fpr, tpr, thresholds = roc_curve(y_test, probs)"
   ]
  },
  {
   "cell_type": "code",
   "execution_count": 80,
   "metadata": {},
   "outputs": [
    {
     "data": {
      "image/png": "[encoded data removed]",
      "text/plain": [
       "<Figure size 432x288 with 1 Axes>"
      ]
     },
     "metadata": {
      "needs_background": "light"
     },
     "output_type": "display_data"
    }
   ],
   "source": [
    "pyplot.plot(fpr,tpr,label=\"5 FOLD CV AUC: {:.2f}\".format( auc ))\n",
    "pyplot.legend(loc=4, prop={'size': 15})\n",
    "pyplot.show()"
   ]
  },
  {
   "cell_type": "code",
   "execution_count": 81,
   "metadata": {},
   "outputs": [
    {
     "data": {
      "text/plain": [
       "['____73.0 CV AUC_FINAL_V4.0.sav']"
      ]
     },
     "execution_count": 81,
     "metadata": {},
     "output_type": "execute_result"
    }
   ],
   "source": [
    "filename = '____73.0 CV AUC_FINAL_V4.0.sav'\n",
    "joblib.dump(model, filename, compress=3)"
   ]
  }
 ],
 "metadata": {
  "kernelspec": {
   "display_name": "Python 3",
   "language": "python",
   "name": "python3"
  },
  "language_info": {
   "codemirror_mode": {
    "name": "ipython",
    "version": 3
   },
   "file_extension": ".py",
   "mimetype": "text/x-python",
   "name": "python",
   "nbconvert_exporter": "python",
   "pygments_lexer": "ipython3",
   "version": "3.7.3"
  }
 },
 "nbformat": 4,
 "nbformat_minor": 2
}
