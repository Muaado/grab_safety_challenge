{
 "cells": [
  {
   "cell_type": "code",
   "execution_count": 3,
   "metadata": {},
   "outputs": [
    {
     "data": {
      "text/html": [
       "<style>\n",
       "table {float:left}\n",
       "</style>\n"
      ],
      "text/plain": [
       "<IPython.core.display.HTML object>"
      ]
     },
     "metadata": {},
     "output_type": "display_data"
    }
   ],
   "source": [
    "%%html\n",
    "<style>\n",
    "table {float:left}\n",
    "</style>"
   ]
  },
  {
   "cell_type": "markdown",
   "metadata": {},
   "source": [
    "# Holdout data Evaluation\n",
    "- [import libraries](#training-log)\n",
    "- [read holdout data](#read-data)\n",
    "- [preprocessing holdout data](#preprocessing-holdout-data)\n",
    "- [feature engineering](#feature-engineering)\n",
    "- [aggregating features](#feature-aggregation)\n",
    "- [prediction and evaluation](#prediction-and-evaluation)"
   ]
  },
  {
   "cell_type": "markdown",
   "metadata": {},
   "source": [
    "## Importing Libraries\n",
    "\n",
    "The following table lists version information of packages used in this notebook.\n",
    "***Please make sure the file 'modules.py' is located in the same directory as this file***\n",
    "\n",
    "| Package  | Version |\n",
    "| ------------- | ------------- |\n",
    "| pandas  | 0.24.2  |\n",
    "| numpy  | 1.16.2  |\n",
    "| sklearn  | 0.20.3  |\n",
    "| matplotlib  | 3.0.3  |"
   ]
  },
  {
   "cell_type": "code",
   "execution_count": 4,
   "metadata": {},
   "outputs": [],
   "source": [
    "from funs import * #<---- custom file in same directory with functions"
   ]
  },
  {
   "cell_type": "markdown",
   "metadata": {},
   "source": [
    "## Reading Holdout data\n",
    "\n",
    "This notebook file resides in the root folder. Please place the holdout data files in the ***holdout*** folder and label file in the ***holdoutlabel*** folder. The structure required is as given below. Please rename the label file to \"label.csv\"\n",
    "```\n",
    "root_folder\n",
    "--holdout\n",
    "---*.csv (holdout data files)\n",
    "--holdoutlabel\n",
    "---label.csv (label csv)\n",
    "```"
   ]
  },
  {
   "cell_type": "code",
   "execution_count": 5,
   "metadata": {},
   "outputs": [
    {
     "name": "stdout",
     "output_type": "stream",
     "text": [
      "/home/biinths/holdout/part-00001-e6120af0-10c2-4248-97c4-81baf4304e5c-c000.csv : READ SUCCESSFULL\n"
     ]
    }
   ],
   "source": [
    "holdoutdata = '/holdout/' \n",
    "holdoutlabel = '/holdoutlabel/'\n",
    "\n",
    "dataset = read_holdout_data(holdoutdata)\n",
    "labels = read_labels(holdoutlabel)"
   ]
  },
  {
   "cell_type": "markdown",
   "metadata": {},
   "source": [
    "## Start Preprocess Procedure\n",
    "The preprocessing procedure is then run to remove outliers and remove bookingID with value 0 and remove duplicate labels"
   ]
  },
  {
   "cell_type": "code",
   "execution_count": 6,
   "metadata": {},
   "outputs": [
    {
     "name": "stdout",
     "output_type": "stream",
     "text": [
      "1.82 s ± 40.2 ms per loop (mean ± std. dev. of 7 runs, 1 loop each)\n"
     ]
    }
   ],
   "source": [
    "%%timeit\n",
    "preprocess_holdout(dataset)\n",
    "preprocess_labels(labels)"
   ]
  },
  {
   "cell_type": "markdown",
   "metadata": {},
   "source": [
    "## Feature Engineering Process\n",
    "The feature engineering process is displayed in the notebook itself to make it easier for evaluators to test and verify the code.\n",
    "Please run the cellblock to execute feature engineering procedure. Index integrity is check after each rolling window calculation to \n",
    "confirm if the dataset index matches with the rolling output dataset"
   ]
  },
  {
   "cell_type": "code",
   "execution_count": 7,
   "metadata": {},
   "outputs": [],
   "source": [
    "\n",
    "\n",
    "dataset.sort_values(['bookingID','second'],ascending=True, inplace=True)\n",
    "\n",
    "#Mean: the average value of the magnitude samples over a time window\n",
    "mean_acc_gyro = dataset.groupby('bookingID', as_index=False)\\\n",
    "        ['acceleration_x','acceleration_y','acceleration_z','gyro_x','gyro_y', 'gyro_z'].rolling(4).mean().reset_index()\n",
    "mean_acc_gyro.set_index('level_1', drop=True, inplace=True)\n",
    "dataset.index[0] == mean_acc_gyro.index[0]\n",
    "\n",
    "#STORE AND EXTRACT MEAN OF EVERY WINDOW -\n",
    "dataset['MEAN_ACC_X'] = mean_acc_gyro.acceleration_x[3::4]\n",
    "dataset['MEAN_ACC_Y'] = mean_acc_gyro.acceleration_y[3::4]\n",
    "dataset['MEAN_ACC_Z'] = mean_acc_gyro.acceleration_z[3::4]\n",
    "dataset['MEAN_GYRO_X'] = mean_acc_gyro.gyro_x[3::4]\n",
    "dataset['MEAN_GYRO_Y'] = mean_acc_gyro.gyro_y[3::4]\n",
    "dataset['MEAN_GYRO_Z'] = mean_acc_gyro.gyro_z[3::4]\n",
    "\n",
    "#Calculate Z-Crossing for accelerometer and gyroscope readings (how many times each point crosses the mean)\n",
    "dataset['CROSSOVER_ACC_X'] = (dataset['acceleration_x'] > dataset['MEAN_ACC_X'].bfill()).astype(int)\n",
    "dataset['CROSSOVER_ACC_Y'] = (dataset['acceleration_y'] > dataset['MEAN_ACC_Y'].bfill()).astype(int)\n",
    "dataset['CROSSOVER_ACC_Z'] = (dataset['acceleration_z'] > dataset['MEAN_ACC_Z'].bfill()).astype(int)\n",
    "\n",
    "#Calculate Z-Crossing for accelerometer and gyroscope readings (how many times each point crosses the mean)\n",
    "dataset['CROSSOVER_GYRO_X'] = (dataset['gyro_x'] > dataset['MEAN_GYRO_X'].bfill()).astype(int)\n",
    "dataset['CROSSOVER_GYRO_Y'] = (dataset['gyro_y'] > dataset['MEAN_GYRO_Y'].bfill()).astype(int)\n",
    "dataset['CROSSOVER_GYRO_Z'] = (dataset['gyro_z'] > dataset['MEAN_GYRO_Z'].bfill()).astype(int)\n",
    "\n",
    "#Variance: the average of the squared differences of the sample values from the mean value over a time window.\n",
    "variance = dataset.groupby('bookingID', as_index=False)\\\n",
    "        ['gyro_x','gyro_y', 'gyro_z'].rolling(4).var().reset_index()\n",
    "\n",
    "variance.set_index('level_1', drop=True, inplace=True)\n",
    "\n",
    "dataset.index[0] == variance.index[0] #index integrity check\n",
    "\n",
    "#STORE AND EXTRACT VA OF EVERY WINDOW -\n",
    "\n",
    "dataset['VAR_GYRO_X'] = variance.gyro_x[3::4]\n",
    "dataset['VAR_GYRO_Y'] = variance.gyro_y[3::4]\n",
    "dataset['VAR_GYRO_Z'] = variance.gyro_z[3::4]\n",
    "\n",
    "dataset['PITCH'] = np.arctan2(-dataset.acceleration_x, np.sqrt(dataset.acceleration_y * dataset.acceleration_y + dataset.acceleration_z * dataset.acceleration_z)) * 57.3\n",
    "dataset['ROLL'] = np.arctan2(dataset.acceleration_y, dataset.acceleration_z) * 57.3\n",
    "\n",
    "\n",
    "#GET MEAN OF ROLL AND PITCH FOR WINDOW\n",
    "mean_pitch_roll = dataset.groupby('bookingID', as_index=False)\\\n",
    "        ['ROLL','PITCH'].rolling(4).mean().reset_index()\n",
    "\n",
    "mean_pitch_roll.set_index('level_1', drop=True, inplace=True)\n",
    "\n",
    "dataset.index[0] == mean_pitch_roll.index[0] #index integrity check\n",
    "\n",
    "# MEAN AND ROLL EXTRACT FOR EACH WINDOW\n",
    "dataset['MEAN_ROLL'] = mean_pitch_roll.ROLL[3::4]\n",
    "dataset['MEAN_PITCH'] = mean_pitch_roll.PITCH[3::4]\n",
    "\n",
    "#CHECK IF THE ACCELERATION POINTs AND GYROSCOPE CROSSES THE MEAN OF WINDOW : IF SO ASSIGN 1\n",
    "dataset['CROSSOVER_PITCH'] = (dataset['ROLL'] > dataset['MEAN_ROLL'].bfill()).astype(int)\n",
    "dataset['CROSSOVER_ROLL'] = (dataset['PITCH'] > dataset['MEAN_PITCH'].bfill()).astype(int)\n",
    "\n",
    "#calculate bearing difference\n",
    "bdiff = dataset.groupby('bookingID', as_index=True)['Bearing'].diff()\n",
    "dataset['bearing_difference'] = bdiff\n",
    "\n",
    "# intervals between data points\n",
    "intervals =  dataset.groupby('bookingID', as_index=True)['second'].diff()\n",
    "dataset['intervals'] = intervals\n",
    "\n",
    "# speed diffrence between points\n",
    "speed_diff =  dataset.groupby('bookingID', as_index=True)['Speed'].diff()\n",
    "dataset['speed_diff'] = speed_diff\n",
    "\n",
    "# calculate acceleration and bearing rates\n",
    "dataset['car_acceleration'] = abs(dataset.speed_diff / dataset.intervals)\n",
    "dataset['bearing_rate'] = abs(dataset.bearing_difference / dataset.intervals)\n",
    "\n",
    "# distance covered at every point\n",
    "dataset['distance_covered'] = abs(dataset.speed_diff * dataset.intervals)"
   ]
  },
  {
   "cell_type": "markdown",
   "metadata": {},
   "source": [
    "## Aggregate the Features\n",
    "This code block aggregates the calculated features so that each bookingID has one record. The feature aggregation details and strategy is defined in [Feature Aggregation]('http://www.google.com')."
   ]
  },
  {
   "cell_type": "code",
   "execution_count": 8,
   "metadata": {},
   "outputs": [],
   "source": [
    "holdout_aggregates = dataset.groupby('bookingID').agg({'distance_covered':['max'],\n",
    "                                                        'bearing_rate':['max', 'var' ,'sum'],\n",
    "                                                        'car_acceleration':['max'],\n",
    "                                                        'intervals':['sum'],\n",
    "                                                        'CROSSOVER_ROLL':['sum'],\n",
    "                                                        'CROSSOVER_PITCH':['sum'],\n",
    "                                                        'MEAN_PITCH':['max','std'],\n",
    "                                                        'MEAN_ROLL':['max','std'],      \n",
    "                                                        'VAR_GYRO_Z':['sum'],\n",
    "                                                        'VAR_GYRO_Y':['sum'],\n",
    "                                                        'VAR_GYRO_X':['sum'],\n",
    "                                                        'CROSSOVER_GYRO_Z':['sum'],\n",
    "                                                        'CROSSOVER_GYRO_Y':['sum'],\n",
    "                                                        'CROSSOVER_GYRO_X':['sum'],\n",
    "                                                        'CROSSOVER_ACC_Z':['sum'],\n",
    "                                                        'CROSSOVER_ACC_Y':['sum'],\n",
    "                                                        'CROSSOVER_ACC_X':['sum']})\n",
    "\n",
    "# concat multi-index columns to single index cols\n",
    "holdout_aggregates.columns = holdout_aggregates.columns.map('|'.join).str.strip('|')"
   ]
  },
  {
   "cell_type": "code",
   "execution_count": 9,
   "metadata": {},
   "outputs": [],
   "source": [
    "#drop NAs in te dataframe\n"
   ]
  },
  {
   "cell_type": "markdown",
   "metadata": {},
   "source": [
    "## The aggregated features are then merged with the labels dataframe \n",
    "***The left join procedure ensures that all unique labels in the labels data frame are captured and aggregated features for these bookingIDs are joined.***"
   ]
  },
  {
   "cell_type": "code",
   "execution_count": 10,
   "metadata": {},
   "outputs": [],
   "source": [
    "#merge aggregate vectors to the orginal label data\n",
    "merged = pd.merge(labels, holdout_aggregates, left_on=['bookingID'], right_on=['bookingID'], how='left')\n",
    "\n",
    "merged =  merged.dropna(how='any')  \n",
    "\n",
    "\n",
    "#drop column, bookingID\n",
    "merged = merged.drop(columns = ['bookingID'])\n",
    "\n",
    "# Seperate out the labels from the holdout (take the first column : labels and store in y , remaining columns in X)\n",
    "X = merged.iloc[:,1:] \n",
    "y = np.ravel(merged.iloc[:,:1])"
   ]
  },
  {
   "cell_type": "markdown",
   "metadata": {},
   "source": [
    "# Load Model and calculate AUC\n",
    "Ensure the model named 'FINAL_MODEL.sav' is in the root directory. \n",
    "10 fold Cross validated AUC is done to get a better representation of model performance"
   ]
  },
  {
   "cell_type": "code",
   "execution_count": 11,
   "metadata": {},
   "outputs": [
    {
     "name": "stdout",
     "output_type": "stream",
     "text": [
      "THE 10 fold cross Validated AUC is :: 0.7096237813944041\n"
     ]
    }
   ],
   "source": [
    "model = joblib.load('FINAL_MODEL.sav')\n",
    "\n",
    "cv_score = cross_val_score(model, X, y, cv=10, scoring='roc_auc')\n",
    "cv_auc = sum(cv_score) / len(cv_score)\n",
    "\n",
    "print(f\"THE 10 fold cross Validated AUC is :: {cv_auc}\")"
   ]
  },
  {
   "cell_type": "code",
   "execution_count": 13,
   "metadata": {},
   "outputs": [
    {
     "data": {
      "text/plain": [
       "Text(33.0, 0.5, 'Actual Labels')"
      ]
     },
     "execution_count": 13,
     "metadata": {},
     "output_type": "execute_result"
    },
    {
     "data": {
      "image/png": "[encoded data removed]",
      "text/plain": [
       "<Figure size 432x288 with 2 Axes>"
      ]
     },
     "metadata": {
      "needs_background": "light"
     },
     "output_type": "display_data"
    }
   ],
   "source": [
    "pred = model.predict(X)\n",
    "cm = confusion_matrix(y, pred)\n",
    "\n",
    "ax= pyplot.subplot()\n",
    "sns.heatmap(cm, annot=True, ax = ax, fmt='g'); #annot=True to annotate cells\n",
    "ax.set_xlabel('Predicted Labels')\n",
    "ax.set_ylabel('Actual Labels')"
   ]
  },
  {
   "cell_type": "markdown",
   "metadata": {},
   "source": [
    "## Plot the Feature Importance Tables"
   ]
  },
  {
   "cell_type": "code",
   "execution_count": 14,
   "metadata": {},
   "outputs": [
    {
     "name": "stdout",
     "output_type": "stream",
     "text": [
      "                      importance\n",
      "intervals|sum               0.33\n",
      "bearing_rate|sum            0.08\n",
      "distance_covered|max        0.08\n",
      "MEAN_ROLL|std               0.06\n",
      "MEAN_PITCH|std              0.06\n",
      "VAR_GYRO_X|sum              0.04\n",
      "VAR_GYRO_Z|sum              0.04\n",
      "bearing_rate|var            0.03\n",
      "car_acceleration|max        0.03\n",
      "MEAN_PITCH|max              0.03\n",
      "MEAN_ROLL|max               0.03\n",
      "CROSSOVER_ROLL|sum          0.03\n",
      "CROSSOVER_ACC_Z|sum         0.03\n",
      "VAR_GYRO_Y|sum              0.02\n",
      "bearing_rate|max            0.02\n",
      "CROSSOVER_ACC_X|sum         0.02\n",
      "CROSSOVER_GYRO_X|sum        0.02\n",
      "CROSSOVER_ACC_Y|sum         0.02\n",
      "CROSSOVER_GYRO_Z|sum        0.01\n",
      "CROSSOVER_GYRO_Y|sum        0.01\n",
      "CROSSOVER_PITCH|sum         0.01\n"
     ]
    }
   ],
   "source": [
    "feature_importances = pd.DataFrame(model.feature_importances_,index = X.columns,columns=['importance']).sort_values('importance',                                                                 ascending=False)\n",
    "print(feature_importances)\n"
   ]
  },
  {
   "cell_type": "markdown",
   "metadata": {},
   "source": [
    "## Plot ROC AUC curve and calculate AUC using 10 fold Cross validation"
   ]
  },
  {
   "cell_type": "code",
   "execution_count": 17,
   "metadata": {},
   "outputs": [
    {
     "data": {
      "image/png": "[encoded data removed]",
      "text/plain": [
       "<Figure size 432x288 with 1 Axes>"
      ]
     },
     "metadata": {
      "needs_background": "light"
     },
     "output_type": "display_data"
    }
   ],
   "source": [
    "preds_cv = cross_val_predict(model, X, y, cv=10, method='predict_proba')\n",
    "fpr, tpr, thresholds = roc_curve(y, preds_cv[:, 1])\n",
    "cv_auc = auc(fpr, tpr)\n",
    "\n",
    "pyplot.plot(fpr,tpr,label=\"10 FOLD CV AUC: {:.2f}\".format( cv_auc ))\n",
    "pyplot.legend(loc=4, prop={'size': 15})\n",
    "pyplot.show()\n"
   ]
  },
  {
   "cell_type": "markdown",
   "metadata": {},
   "source": [
    "## Prediction of labels (ONLY RUN IF REQUIRED)\n",
    "Labels are predicted using 10 fold cross validated predict and are written to the file named \"predicted_values.csv\""
   ]
  },
  {
   "cell_type": "code",
   "execution_count": 18,
   "metadata": {},
   "outputs": [],
   "source": [
    "predicted_labels = cross_val_predict(model, X, y, cv=10, method='predict')\n",
    "\n",
    "np.savetxt(\"predicted_values.csv\", predicted_labels, delimiter=\",\")"
   ]
  }
 ],
 "metadata": {
  "kernelspec": {
   "display_name": "Python 3",
   "language": "python",
   "name": "python3"
  },
  "language_info": {
   "codemirror_mode": {
    "name": "ipython",
    "version": 3
   },
   "file_extension": ".py",
   "mimetype": "text/x-python",
   "name": "python",
   "nbconvert_exporter": "python",
   "pygments_lexer": "ipython3",
   "version": "3.7.3"
  }
 },
 "nbformat": 4,
 "nbformat_minor": 2
}
