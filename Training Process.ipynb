{
 "cells": [
  {
   "cell_type": "markdown",
   "metadata": {},
   "source": [
    "# Import Libraries and Read the data"
   ]
  },
  {
   "cell_type": "code",
   "execution_count": 522,
   "metadata": {},
   "outputs": [],
   "source": [
    "from sklearn.externals import joblib\n",
    "import os\n",
    "import pandas as pd\n",
    "import numpy as np\n",
    "from sklearn.ensemble import RandomForestClassifier\n",
    "from sklearn.model_selection import train_test_split, cross_val_score, GridSearchCV, cross_val_predict\n",
    "from sklearn.metrics import roc_curve, roc_auc_score, auc, confusion_matrix\n",
    "from matplotlib import pyplot\n",
    "import seaborn as sns\n",
    "\n",
    "#------------------- START FUNCTIONS -----------------------------------------#\n",
    "def read_data(file):  \n",
    "    #import the datasets and labels\n",
    "    d = pd.read_csv(file, delimiter=\",\", engine='python',header='infer', dtype={ 'bookingID': np.int64, 'Accuracy': np.int32, 'Bearing': np.int32, 'acceleration_x': np.float64, 'acceleration_y': np.float64, 'acceleration_z': np.float64, 'gyro_x': np.float64, 'gyro_y': np.float64, 'gyro_z': np.float64, 'second': np.int32, 'Speed': np.int32  })\n",
    "    print(file)\n",
    "    return d\n",
    "\n",
    "#------------------- END FUNCTIONS -----------------------------------------#\n",
    "\n",
    "\n",
    "#read in the data\n",
    "#fetch all files inside the features dir\n",
    "files = os.listdir(os.getcwd()+'/features')\n",
    "\n",
    "#create and append individual csv files to one single data frame\n",
    "dataset = pd.DataFrame()\n",
    "for file in files:\n",
    "    file = os.getcwd()+'/features/'+file\n",
    "    if file.endswith('.csv'):\n",
    "        dataset = dataset.append(read_data(file))\n",
    "\n",
    "labels = pd.read_csv('label.csv', delimiter=\",\", header='infer')\n",
    "\n",
    "labels = labels[labels.bookingID != 0]"
   ]
  },
  {
   "cell_type": "markdown",
   "metadata": {},
   "source": [
    "# Pre processing data"
   ]
  },
  {
   "cell_type": "code",
   "execution_count": 530,
   "metadata": {},
   "outputs": [],
   "source": [
    "#rename columsn in the dataframe\n",
    "pd.options.display.float_format = '{:.2f}'.format\n",
    "\n",
    "labels = pd.read_csv('label.csv', delimiter=\",\", header='infer', dtype={ 'bookingID': np.int64, 'label': np.int})\n",
    "\n",
    "#drop rows with BookingId values as 0\n",
    "dataset = dataset[dataset.bookingID != 0]\n",
    "labels = labels[labels.bookingID != 0]\n",
    "\n",
    "#merge the two datasets with the right labels - Use keys from right frame only\n",
    "merged = pd.merge(dataset, labels, left_on=['bookingID'], right_on=['bookingID'], how='left')\n",
    "\n",
    "labels.drop_duplicates(subset =\"bookingID\", keep = False, inplace = True) \n",
    "orig_data = labels\n",
    "\n",
    "def remove_outlier(df_in, col_name):\n",
    "    q1 = df_in[col_name].quantile(0.25)\n",
    "    q3 = df_in[col_name].quantile(0.75)\n",
    "    iqr = q3-q1 #Interquartile range\n",
    "    fence_low  = q1-1.5*iqr\n",
    "    fence_high = q3+1.5*iqr\n",
    "    df_out = df_in.loc[(df_in[col_name] > fence_low) & (df_in[col_name] < fence_high)]\n",
    "    return df_out\n",
    "\n",
    "columns = dataset.columns\n",
    "dataset[columns] = dataset[columns].apply(pd.to_numeric, errors='coerce')\n",
    "\n",
    "#drop rows with BookingId values as 0\n",
    "dataset = dataset[dataset.bookingID != 0]\n",
    "labels = labels[labels.bookingID != 0]\n",
    "\n",
    "merged = remove_outlier(merged, 'second')\n",
    "merged = merged.sort_values(['bookingID','second'],ascending=True)"
   ]
  },
  {
   "cell_type": "markdown",
   "metadata": {},
   "source": [
    "# Feature Engineering"
   ]
  },
  {
   "cell_type": "code",
   "execution_count": 531,
   "metadata": {},
   "outputs": [],
   "source": [
    "#Mean: the average value of the magnitude samples over a time window\n",
    "mean_acc_gyro = merged.groupby('bookingID', as_index=False)\\\n",
    "        ['acceleration_x','acceleration_y','acceleration_z','gyro_x','gyro_y', 'gyro_z'].rolling(4).mean().reset_index()\n",
    "\n",
    "mean_acc_gyro.set_index('level_1', drop=True, inplace=True)\n",
    "\n",
    "merged.index[0] == mean_acc_gyro.index[0]\n",
    "\n",
    "#STORE AND EXTRACT MEAN OF EVERY WINDOW -\n",
    "merged['MEAN_ACC_X'] = mean_acc_gyro.acceleration_x[3::4]\n",
    "merged['MEAN_ACC_Y'] = mean_acc_gyro.acceleration_y[3::4]\n",
    "merged['MEAN_ACC_Z'] = mean_acc_gyro.acceleration_z[3::4]\n",
    "merged['MEAN_GYRO_X'] = mean_acc_gyro.gyro_x[3::4]\n",
    "merged['MEAN_GYRO_Y'] = mean_acc_gyro.gyro_y[3::4]\n",
    "merged['MEAN_GYRO_Z'] = mean_acc_gyro.gyro_z[3::4]\n",
    "\n",
    "#Calculate Z-Crossing for accelerometer and gyroscope readings (how many times each point crosses the mean)\n",
    "merged['CROSSOVER_ACC_X'] = (merged['acceleration_x'] > merged['MEAN_ACC_X'].bfill()).astype(int)\n",
    "merged['CROSSOVER_ACC_Y'] = (merged['acceleration_y'] > merged['MEAN_ACC_Y'].bfill()).astype(int)\n",
    "merged['CROSSOVER_ACC_Z'] = (merged['acceleration_z'] > merged['MEAN_ACC_Z'].bfill()).astype(int)\n",
    "\n",
    "#Calculate Z-Crossing for accelerometer and gyroscope readings (how many times each point crosses the mean)\n",
    "merged['CROSSOVER_GYRO_X'] = (merged['gyro_x'] > merged['MEAN_GYRO_X'].bfill()).astype(int)\n",
    "merged['CROSSOVER_GYRO_Y'] = (merged['gyro_y'] > merged['MEAN_GYRO_Y'].bfill()).astype(int)\n",
    "merged['CROSSOVER_GYRO_Z'] = (merged['gyro_z'] > merged['MEAN_GYRO_Z'].bfill()).astype(int)\n",
    "\n",
    "#Variance: the average of the squared differences of the sample values from the mean value over a time window.\n",
    "variance = merged.groupby('bookingID', as_index=False)\\\n",
    "        ['gyro_x','gyro_y', 'gyro_z'].rolling(4).var().reset_index()\n",
    "\n",
    "variance.set_index('level_1', drop=True, inplace=True)\n",
    "\n",
    "merged.index[0] == variance.index[0]\n",
    "\n",
    "#STORE AND EXTRACT VA OF EVERY WINDOW -\n",
    "merged['VAR_GYRO_X'] = variance.gyro_x[3::4]\n",
    "merged['VAR_GYRO_Y'] = variance.gyro_y[3::4]\n",
    "merged['VAR_GYRO_Z'] = variance.gyro_z[3::4]\n",
    "\n",
    "merged['PITCH'] = np.arctan2(-merged.acceleration_x, np.sqrt(merged.acceleration_y * merged.acceleration_y + merged.acceleration_z * merged.acceleration_z)) * 57.3\n",
    "merged['ROLL'] = np.arctan2(merged.acceleration_y, merged.acceleration_z) * 57.3\n",
    "\n",
    "\n",
    "#GET MEAN OF ROLL AND PITCH FOR WINDOW\n",
    "mean_pitch_roll = merged.groupby('bookingID', as_index=False)\\\n",
    "        ['ROLL','PITCH'].rolling(4).mean().reset_index()\n",
    "\n",
    "mean_pitch_roll.set_index('level_1', drop=True, inplace=True)\n",
    "\n",
    "merged.index[0] == mean_pitch_roll.index[0]\n",
    "\n",
    "# MEAN AND ROLL EXTRACT FOR EACH WINDOW\n",
    "merged['MEAN_ROLL'] = mean_pitch_roll.ROLL[3::4]\n",
    "merged['MEAN_PITCH'] = mean_pitch_roll.PITCH[3::4]\n",
    "\n",
    "#CHECK IF THE ACCELERATION POINTs AND GYROSCOPE CROSSES THE MEAN OF WINDOW : IF SO ASSIGN 1\n",
    "merged['CROSSOVER_PITCH'] = (merged['ROLL'] > merged['MEAN_ROLL'].bfill()).astype(int)\n",
    "merged['CROSSOVER_ROLL'] = (merged['PITCH'] > merged['MEAN_PITCH'].bfill()).astype(int)\n",
    "\n",
    "#calculate bearing difference\n",
    "bdiff = merged.groupby('bookingID', as_index=True)['Bearing'].diff()\n",
    "merged['bearing_difference'] = bdiff\n",
    "\n",
    "# intervals between data points\n",
    "intervals =  merged.groupby('bookingID', as_index=True)['second'].diff()\n",
    "merged['intervals'] = intervals\n",
    "\n",
    "# speed diffrence between points\n",
    "speed_diff =  merged.groupby('bookingID', as_index=True)['Speed'].diff()\n",
    "merged['speed_diff'] = speed_diff\n",
    "\n",
    "# calculate acceleration and bearing rates\n",
    "merged['car_acceleration'] = abs(merged.speed_diff / merged.intervals)\n",
    "merged['bearing_rate'] = abs(merged.bearing_difference / merged.intervals)\n",
    "\n",
    "# distance covered at every point\n",
    "merged['distance_covered'] = abs(merged.speed_diff * merged.intervals)"
   ]
  },
  {
   "cell_type": "markdown",
   "metadata": {},
   "source": [
    "# Feature Aggregation"
   ]
  },
  {
   "cell_type": "code",
   "execution_count": 532,
   "metadata": {},
   "outputs": [],
   "source": [
    "aggregates = merged.groupby('bookingID').agg({'distance_covered':['max'],\n",
    "                            'bearing_rate':['max', 'var' ,'sum'],\n",
    "                            'car_acceleration':['max'],\n",
    "                            'intervals':['sum'],\n",
    "                            'CROSSOVER_ROLL':['sum'],\n",
    "                            'CROSSOVER_PITCH':['sum'],\n",
    "                            'MEAN_PITCH':['max','std'],\n",
    "                            'MEAN_ROLL':['max','std'],      \n",
    "                            'VAR_GYRO_Z':['sum'],\n",
    "                            'VAR_GYRO_Y':['sum'],\n",
    "                            'VAR_GYRO_X':['sum'],\n",
    "                            'CROSSOVER_GYRO_Z':['sum'],\n",
    "                            'CROSSOVER_GYRO_Y':['sum'],\n",
    "                            'CROSSOVER_GYRO_X':['sum'],\n",
    "                            'CROSSOVER_ACC_Z':['sum'],\n",
    "                            'CROSSOVER_ACC_Y':['sum'],\n",
    "                            'CROSSOVER_ACC_X':['sum']})\n",
    "\n",
    "aggregates.columns = aggregates.columns.map('|'.join).str.strip('|')\n",
    "\n",
    "#merge aggregate vectors to the orginal label data\n",
    "merged = pd.merge(orig_data, aggregates, left_on=['bookingID'], right_on=['bookingID'], how='left')\n",
    "\n",
    "#rearrange columsn so that label goes to the end of frame\n",
    "labels = merged['label']\n",
    "merged = merged.drop(columns='label')\n",
    "merged['label'] = labels\n",
    "\n",
    "merged =  merged.dropna(how='any')   \n",
    "\n",
    "merged = merged.drop(columns = ['bookingID'])"
   ]
  },
  {
   "cell_type": "markdown",
   "metadata": {},
   "source": [
    "# Splitting (Stratified Sampling)"
   ]
  },
  {
   "cell_type": "code",
   "execution_count": 533,
   "metadata": {},
   "outputs": [],
   "source": [
    "d = len(merged.columns) -1\n",
    "\n",
    "#split the dataset\n",
    "X = merged.iloc[:,:d]\n",
    "y = merged.iloc[:,d]\n",
    "\n",
    "X_train, X_test, y_train, y_test = train_test_split( X, y, test_size=0.33, random_state=232323, stratify =y)"
   ]
  },
  {
   "cell_type": "markdown",
   "metadata": {},
   "source": [
    "# Model Tuning (Gridsearch with 10 fold CV) : Only RUN ONCE"
   ]
  },
  {
   "cell_type": "code",
   "execution_count": null,
   "metadata": {},
   "outputs": [],
   "source": [
    "\"\"\"\n",
    "model = RandomForestClassifier(random_state = 3456)\n",
    "\n",
    "grid_search_params = {'n_estimators': [160,180,190,200],\n",
    "                    'max_features': [0.5,0.7,0.8,0.9],\n",
    "                    'max_depth': [5,10,25,45],\n",
    "                    'min_samples_split': [0.01,0.02,0.8]}\n",
    "\n",
    "\n",
    "grid_search = GridSearchCV(estimator = model, param_grid = grid_search_params, cv = 10, n_jobs = 16, verbose = 3, scoring='roc_auc')\n",
    "\n",
    "grid_search.fit(X_train,y_train)\n",
    "\n",
    "\n",
    "\n",
    "model = grid_search.best_estimator_\n",
    "\n",
    "grid_search.best_params_\n",
    "\"\"\""
   ]
  },
  {
   "cell_type": "markdown",
   "metadata": {},
   "source": [
    "# Build Model with Tuned Parameters"
   ]
  },
  {
   "cell_type": "code",
   "execution_count": 535,
   "metadata": {},
   "outputs": [
    {
     "data": {
      "text/plain": [
       "RandomForestClassifier(bootstrap=True, class_weight='balanced',\n",
       "            criterion='gini', max_depth=10, max_features=0.7,\n",
       "            max_leaf_nodes=None, min_impurity_decrease=0.0,\n",
       "            min_impurity_split=None, min_samples_leaf=1,\n",
       "            min_samples_split=0.01, min_weight_fraction_leaf=0.0,\n",
       "            n_estimators=180, n_jobs=17, oob_score=False,\n",
       "            random_state=None, verbose=0, warm_start=False)"
      ]
     },
     "execution_count": 535,
     "metadata": {},
     "output_type": "execute_result"
    }
   ],
   "source": [
    "# fit model no training data\n",
    "model = RandomForestClassifier(n_estimators=180 , max_depth = 10, min_samples_split=0.01, max_features= 0.7, n_jobs = 17, verbose =0, class_weight='balanced')\n",
    "model.fit(X_train, y_train)"
   ]
  },
  {
   "cell_type": "markdown",
   "metadata": {},
   "source": [
    "# Evaluate Model\n",
    "10 fold Cross validated AUC is done to get a better representation of model performance"
   ]
  },
  {
   "cell_type": "code",
   "execution_count": 536,
   "metadata": {},
   "outputs": [
    {
     "name": "stdout",
     "output_type": "stream",
     "text": [
      "THE 10 fold cross Validated AUC is :: 0.7211335808721733\n"
     ]
    }
   ],
   "source": [
    "model = joblib.load('FINAL_MODEL.sav')\n",
    "\n",
    "cv_score = cross_val_score(model, X_test, y_test, cv=10, scoring='roc_auc')\n",
    "cv_auc = sum(cv_score) / len(cv_score)\n",
    "\n",
    "print(f\"THE 10 fold cross Validated AUC is :: {cv_auc}\")"
   ]
  },
  {
   "cell_type": "code",
   "execution_count": null,
   "metadata": {},
   "outputs": [],
   "source": [
    "# Co"
   ]
  },
  {
   "cell_type": "code",
   "execution_count": 537,
   "metadata": {},
   "outputs": [
    {
     "data": {
      "text/plain": [
       "Text(51.0, 0.5, 'Actual Labels')"
      ]
     },
     "execution_count": 537,
     "metadata": {},
     "output_type": "execute_result"
    },
    {
     "data": {
      "image/png": "[encoded data removed]",
      "text/plain": [
       "<Figure size 576x396 with 2 Axes>"
      ]
     },
     "metadata": {},
     "output_type": "display_data"
    }
   ],
   "source": [
    "pred = model.predict(X_test)\n",
    "cm = confusion_matrix(y_test, pred)\n",
    "\n",
    "ax= pyplot.subplot()\n",
    "sns.heatmap(cm, annot=True, ax = ax, fmt='g'); #annot=True to annotate cells\n",
    "ax.set_xlabel('Predicted Labels')\n",
    "ax.set_ylabel('Actual Labels')"
   ]
  },
  {
   "cell_type": "markdown",
   "metadata": {},
   "source": [
    "## Plot the Feature Importance Tables"
   ]
  },
  {
   "cell_type": "code",
   "execution_count": 538,
   "metadata": {},
   "outputs": [
    {
     "name": "stdout",
     "output_type": "stream",
     "text": [
      "                      importance\n",
      "intervals|sum               0.33\n",
      "bearing_rate|sum            0.08\n",
      "distance_covered|max        0.08\n",
      "MEAN_ROLL|std               0.06\n",
      "MEAN_PITCH|std              0.06\n",
      "VAR_GYRO_X|sum              0.04\n",
      "VAR_GYRO_Z|sum              0.04\n",
      "bearing_rate|var            0.03\n",
      "car_acceleration|max        0.03\n",
      "MEAN_PITCH|max              0.03\n",
      "MEAN_ROLL|max               0.03\n",
      "CROSSOVER_ROLL|sum          0.03\n",
      "CROSSOVER_ACC_Z|sum         0.03\n",
      "VAR_GYRO_Y|sum              0.02\n",
      "bearing_rate|max            0.02\n",
      "CROSSOVER_ACC_X|sum         0.02\n",
      "CROSSOVER_GYRO_X|sum        0.02\n",
      "CROSSOVER_ACC_Y|sum         0.02\n",
      "CROSSOVER_GYRO_Z|sum        0.01\n",
      "CROSSOVER_GYRO_Y|sum        0.01\n",
      "CROSSOVER_PITCH|sum         0.01\n"
     ]
    }
   ],
   "source": [
    "feature_importances = pd.DataFrame(model.feature_importances_,index = X.columns,columns=['importance']).sort_values('importance',                                                                 ascending=False)\n",
    "print(feature_importances)\n"
   ]
  },
  {
   "cell_type": "markdown",
   "metadata": {},
   "source": [
    "## Plot ROC AUC curve and calculate AUC using 10 fold Cross validation"
   ]
  },
  {
   "cell_type": "code",
   "execution_count": 539,
   "metadata": {},
   "outputs": [
    {
     "data": {
      "image/png": "[encoded data removed]",
      "text/plain": [
       "<Figure size 576x396 with 1 Axes>"
      ]
     },
     "metadata": {},
     "output_type": "display_data"
    }
   ],
   "source": [
    "preds_cv = cross_val_predict(model, X_test, y_test, cv=10, method='predict_proba')\n",
    "fpr, tpr, thresholds = roc_curve(y_test, preds_cv[:, 1])\n",
    "cv_auc = auc(fpr, tpr)\n",
    "\n",
    "pyplot.plot(fpr,tpr,label=\"10 FOLD CV AUC: {:.2f}\".format( cv_auc ))\n",
    "pyplot.legend(loc=4, prop={'size': 15})\n",
    "pyplot.show()\n"
   ]
  },
  {
   "cell_type": "code",
   "execution_count": null,
   "metadata": {},
   "outputs": [],
   "source": [
    "\"\"\"\n",
    "filename = 'FINAL_MODEL.sav'\n",
    "joblib.dump(model, filename, compress=3)\n",
    "\"\"\""
   ]
  }
 ],
 "metadata": {
  "kernelspec": {
   "display_name": "Python 3",
   "language": "python",
   "name": "python3"
  },
  "language_info": {
   "codemirror_mode": {
    "name": "ipython",
    "version": 3
   },
   "file_extension": ".py",
   "mimetype": "text/x-python",
   "name": "python",
   "nbconvert_exporter": "python",
   "pygments_lexer": "ipython3",
   "version": "3.7.3"
  }
 },
 "nbformat": 4,
 "nbformat_minor": 2
}
